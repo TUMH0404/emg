{
  "nbformat": 4,
  "nbformat_minor": 0,
  "metadata": {
    "colab": {
      "name": "EMG_samp_01.ipynb",
      "provenance": []
    },
    "kernelspec": {
      "name": "python3",
      "display_name": "Python 3"
    },
    "language_info": {
      "name": "python"
    }
  },
  "cells": [
    {
      "cell_type": "code",
      "metadata": {
        "id": "TBluGJiGgTxh",
        "cellView": "form"
      },
      "source": [
        "#@title Googleドライブにマウントする\n",
        "from google.colab import drive\n",
        "drive.mount('/content/drive')"
      ],
      "execution_count": null,
      "outputs": []
    },
    {
      "cell_type": "markdown",
      "metadata": {
        "id": "zYlITFMi45U2"
      },
      "source": [
        "Googleドライブのマイドライブ内に解析専用のフォルダを作成する。\n",
        "\n",
        "ここではEMGとする。そして下のworking_directoryを合わせる。"
      ]
    },
    {
      "cell_type": "code",
      "metadata": {
        "cellView": "form",
        "id": "wg_QBAJC_uau"
      },
      "source": [
        "mydrive = \"/content/drive/MyDrive/\"\n",
        "#@title フォルダの設定\n",
        "working_directory = \"EMG\" #@param {type:\"string\"}"
      ],
      "execution_count": null,
      "outputs": []
    },
    {
      "cell_type": "code",
      "metadata": {
        "cellView": "form",
        "id": "UVyP5wM9_zIB"
      },
      "source": [
        "#@title EMGを計測後センサから取り出したデータファイルの入ったフォルダ\n",
        "folder_name = \"mem-20211115-131617\" #@param {type:\"string\"}\n",
        "folderwithfile = mydrive+working_directory+\"/\"+folder_name+\"/\""
      ],
      "execution_count": 26,
      "outputs": []
    },
    {
      "cell_type": "code",
      "metadata": {
        "cellView": "form",
        "id": "c-I6JXlM_1i5"
      },
      "source": [
        "#@title 解析を始めるポイントの決定(5秒以降がよい)\n",
        "start = 5100 #@param {type:\"slider\", min:0, max:10000, step:100}"
      ],
      "execution_count": 15,
      "outputs": []
    },
    {
      "cell_type": "code",
      "metadata": {
        "colab": {
          "base_uri": "https://localhost:8080/"
        },
        "cellView": "form",
        "id": "bIwaLzOPAQzZ",
        "outputId": "70037be5-cab9-4053-9a06-d7ddd2730105"
      },
      "source": [
        "#@title ココはこのまま実行\n",
        "import os\n",
        "import csv\n",
        "import pandas as pd\n",
        "import datetime\n",
        "import glob\n",
        "import numpy as np\n",
        "\n",
        "os.chdir(mydrive+working_directory)\n",
        "import emg\n",
        "print(f\"現在の作業ディレクトリ:{os.getcwd()}\")"
      ],
      "execution_count": 18,
      "outputs": [
        {
          "output_type": "stream",
          "name": "stdout",
          "text": [
            "現在の作業ディレクトリ:/content/drive/MyDrive/EMG\n"
          ]
        }
      ]
    },
    {
      "cell_type": "code",
      "metadata": {
        "id": "cGTUEHR1ykYT"
      },
      "source": [
        "#@title データの読み込みと処理後のデータの保存 { display-mode: \"form\" }\n",
        "filename = glob.glob(folderwithfile+\"mem-*.csv\")\n",
        "dat = pd.read_csv(filename[0],header=None)\n",
        "\n",
        "bandpasslow = 15 \n",
        "bandpasshigh = 350 \n",
        "\n",
        "# EMG1\n",
        "myd0 = dat.iloc[start:,2].to_numpy()\n",
        "myd0_band = emg.bpf(myd0,1000,bandpasslow,bandpasshigh)\n",
        "myd0_abs = np.abs(myd0_band)\n",
        "val = emg.integral(myd0_abs,0,start,len(myd0_abs)-2)\n",
        "for name,dd in zip([\"rowdata\",\"band\",\"abs\",\"integ\"],[myd0,myd0_band,myd0_abs,val]):\n",
        "    with open(f'{name}.csv', 'w') as f:\n",
        "        writer = csv.writer(f)\n",
        "        writer.writerow(dd.tolist())"
      ],
      "execution_count": 25,
      "outputs": []
    }
  ]
}